{
 "cells": [
  {
   "cell_type": "code",
   "execution_count": 1,
   "metadata": {
    "collapsed": true
   },
   "outputs": [],
   "source": [
    "users = {\"Angelica\": {\"Blues Traveler\": 3.5, \"Broken Bells\": 2.0, \"Norah Jones\": 4.5, \"Phoenix\": 5.0, \"Slightly Stoopid\": 1.5, \"The Strokes\": 2.5, \"Vampire Weekend\": 2.0},\n",
    "         \"Bill\":{\"Blues Traveler\": 2.0, \"Broken Bells\": 3.5, \"Deadmau5\": 4.0, \"Phoenix\": 2.0, \"Slightly Stoopid\": 3.5, \"Vampire Weekend\": 3.0},\n",
    "         \"Chan\": {\"Blues Traveler\": 5.0, \"Broken Bells\": 1.0, \"Deadmau5\": 1.0, \"Norah Jones\": 3.0, \"Phoenix\": 5, \"Slightly Stoopid\": 1.0},\n",
    "         \"Dan\": {\"Blues Traveler\": 3.0, \"Broken Bells\": 4.0, \"Deadmau5\": 4.5, \"Phoenix\": 3.0, \"Slightly Stoopid\": 4.5, \"The Strokes\": 4.0, \"Vampire Weekend\": 2.0},\n",
    "         \"Hailey\": {\"Broken Bells\": 4.0, \"Deadmau5\": 1.0, \"Norah Jones\": 4.0, \"The Strokes\": 4.0, \"Vampire Weekend\": 1.0},\n",
    "         \"Jordyn\":  {\"Broken Bells\": 4.5, \"Deadmau5\": 4.0, \"Norah Jones\": 5.0, \"Phoenix\": 5.0, \"Slightly Stoopid\": 4.5, \"The Strokes\": 4.0, \"Vampire Weekend\": 4.0},\n",
    "         \"Sam\": {\"Blues Traveler\": 5.0, \"Broken Bells\": 2.0, \"Norah Jones\": 3.0, \"Phoenix\": 5.0, \"Slightly Stoopid\": 4.0, \"The Strokes\": 5.0},\n",
    "         \"Veronica\": {\"Blues Traveler\": 3.0, \"Norah Jones\": 5.0, \"Phoenix\": 4.0, \"Slightly Stoopid\": 2.5, \"The Strokes\": 3.0}\n",
    "        }"
   ]
  },
  {
   "cell_type": "code",
   "execution_count": 3,
   "metadata": {
    "collapsed": false
   },
   "outputs": [
    {
     "data": {
      "text/plain": [
       "{'Blues Traveler': 3.0,\n",
       " 'Norah Jones': 5.0,\n",
       " 'Phoenix': 4.0,\n",
       " 'Slightly Stoopid': 2.5,\n",
       " 'The Strokes': 3.0}"
      ]
     },
     "execution_count": 3,
     "metadata": {},
     "output_type": "execute_result"
    }
   ],
   "source": [
    "users[\"Veronica\"]"
   ]
  },
  {
   "cell_type": "code",
   "execution_count": 4,
   "metadata": {
    "collapsed": true
   },
   "outputs": [],
   "source": [
    "def manhattan(rating1, rating2):\n",
    "    \"\"\"计算曼哈顿距离。rating1和rating2参数中存储的数据格式均为\n",
    "    {'The Strokes': 3.0, 'Slightly Stoopid': 2.5}\"\"\"\n",
    "    distance = 0\n",
    "    for key in rating1:\n",
    "        if key in rating2:\n",
    "            distance += abs(rating1[key] - rating2[key])\n",
    "    return distance"
   ]
  },
  {
   "cell_type": "code",
   "execution_count": 5,
   "metadata": {
    "collapsed": false
   },
   "outputs": [
    {
     "data": {
      "text/plain": [
       "2.0"
      ]
     },
     "execution_count": 5,
     "metadata": {},
     "output_type": "execute_result"
    }
   ],
   "source": [
    "manhattan(users['Hailey'], users['Veronica'])"
   ]
  },
  {
   "cell_type": "code",
   "execution_count": 6,
   "metadata": {
    "collapsed": false
   },
   "outputs": [
    {
     "data": {
      "text/plain": [
       "7.5"
      ]
     },
     "execution_count": 6,
     "metadata": {},
     "output_type": "execute_result"
    }
   ],
   "source": [
    " manhattan(users['Hailey'], users['Jordyn'])"
   ]
  },
  {
   "cell_type": "code",
   "execution_count": 7,
   "metadata": {
    "collapsed": true
   },
   "outputs": [],
   "source": [
    "def computeNearestNeighbor(username, users):\n",
    "    \"\"\"计算所有用户至username用户的距离，倒序排列并返回结果列表\"\"\"\n",
    "    distances = []\n",
    "    for user in users:\n",
    "        if user != username:\n",
    "            distance = manhattan(users[user], users[username])\n",
    "            distances.append((distance, user))\n",
    "    # 按距离排序——距离近的排在前面\n",
    "    distances.sort()\n",
    "    return distances"
   ]
  },
  {
   "cell_type": "code",
   "execution_count": 8,
   "metadata": {
    "collapsed": false
   },
   "outputs": [
    {
     "data": {
      "text/plain": [
       "[(2.0, 'Veronica'),\n",
       " (4.0, 'Chan'),\n",
       " (4.0, 'Sam'),\n",
       " (4.5, 'Dan'),\n",
       " (5.0, 'Angelica'),\n",
       " (5.5, 'Bill'),\n",
       " (7.5, 'Jordyn')]"
      ]
     },
     "execution_count": 8,
     "metadata": {},
     "output_type": "execute_result"
    }
   ],
   "source": [
    "computeNearestNeighbor(\"Hailey\", users)"
   ]
  },
  {
   "cell_type": "code",
   "execution_count": 9,
   "metadata": {
    "collapsed": true
   },
   "outputs": [],
   "source": [
    "def recommend(username, users):\n",
    "    \"\"\"返回推荐结果列表\"\"\"\n",
    "    # 找到距离最近的用户\n",
    "    nearest = computeNearestNeighbor(username, users)[0][1]\n",
    "    recommendations = []\n",
    "    # 找出这位用户评价过、但自己未曾评价的乐队\n",
    "    neighborRatings = users[nearest]\n",
    "    userRatings = users[username]\n",
    "    for artist in neighborRatings:\n",
    "        if not artist in userRatings:\n",
    "            recommendations.append((artist, neighborRatings[artist]))\n",
    "    # 按照评分进行排序\n",
    "    return sorted(recommendations, key=lambda artistTuple: artistTuple[1], reverse = True)"
   ]
  },
  {
   "cell_type": "code",
   "execution_count": 10,
   "metadata": {
    "collapsed": false
   },
   "outputs": [
    {
     "data": {
      "text/plain": [
       "[('Phoenix', 4.0), ('Blues Traveler', 3.0), ('Slightly Stoopid', 2.5)]"
      ]
     },
     "execution_count": 10,
     "metadata": {},
     "output_type": "execute_result"
    }
   ],
   "source": [
    "recommend('Hailey', users)"
   ]
  },
  {
   "cell_type": "code",
   "execution_count": 11,
   "metadata": {
    "collapsed": true
   },
   "outputs": [],
   "source": [
    "from math import sqrt\n",
    "\n",
    "def pearson(rating1, rating2):\n",
    "    sum_xy = 0\n",
    "    sum_x = 0\n",
    "    sum_y = 0\n",
    "    sum_x2 = 0\n",
    "    sum_y2 = 0\n",
    "    n = 0\n",
    "    for key in rating1:\n",
    "        if key in rating2:\n",
    "            n += 1\n",
    "            x = rating1[key]\n",
    "            y = rating2[key]\n",
    "            sum_xy += x * y\n",
    "            sum_x += x\n",
    "            sum_y += y\n",
    "            sum_x2 += pow(x, 2)\n",
    "            sum_y2 += pow(y, 2)\n",
    "    # 计算分母\n",
    "    denominator = sqrt(sum_x2 - pow(sum_x, 2) / n) * sqrt(sum_y2 - pow(sum_y, 2) / n)\n",
    "    if denominator == 0:\n",
    "        return 0\n",
    "    else:\n",
    "        return (sum_xy - (sum_x * sum_y) / n) / denominator"
   ]
  },
  {
   "cell_type": "code",
   "execution_count": 12,
   "metadata": {
    "collapsed": true
   },
   "outputs": [],
   "source": [
    "import codecs \n",
    "from math import sqrt\n",
    "\n",
    "users = {\"Angelica\": {\"Blues Traveler\": 3.5, \"Broken Bells\": 2.0,\n",
    "                      \"Norah Jones\": 4.5, \"Phoenix\": 5.0,\n",
    "                      \"Slightly Stoopid\": 1.5,\n",
    "                      \"The Strokes\": 2.5, \"Vampire Weekend\": 2.0},\n",
    "\n",
    "         \"Bill\":{\"Blues Traveler\": 2.0, \"Broken Bells\": 3.5,\n",
    "                 \"Deadmau5\": 4.0, \"Phoenix\": 2.0,\n",
    "                 \"Slightly Stoopid\": 3.5, \"Vampire Weekend\": 3.0},\n",
    "\n",
    "         \"Chan\": {\"Blues Traveler\": 5.0, \"Broken Bells\": 1.0,\n",
    "                  \"Deadmau5\": 1.0, \"Norah Jones\": 3.0, \"Phoenix\": 5,\n",
    "                  \"Slightly Stoopid\": 1.0},\n",
    "\n",
    "         \"Dan\": {\"Blues Traveler\": 3.0, \"Broken Bells\": 4.0,\n",
    "                 \"Deadmau5\": 4.5, \"Phoenix\": 3.0,\n",
    "                 \"Slightly Stoopid\": 4.5, \"The Strokes\": 4.0,\n",
    "                 \"Vampire Weekend\": 2.0},\n",
    "\n",
    "         \"Hailey\": {\"Broken Bells\": 4.0, \"Deadmau5\": 1.0,\n",
    "                    \"Norah Jones\": 4.0, \"The Strokes\": 4.0,\n",
    "                    \"Vampire Weekend\": 1.0},\n",
    "\n",
    "         \"Jordyn\":  {\"Broken Bells\": 4.5, \"Deadmau5\": 4.0,\n",
    "                     \"Norah Jones\": 5.0, \"Phoenix\": 5.0,\n",
    "                     \"Slightly Stoopid\": 4.5, \"The Strokes\": 4.0,\n",
    "                     \"Vampire Weekend\": 4.0},\n",
    "\n",
    "         \"Sam\": {\"Blues Traveler\": 5.0, \"Broken Bells\": 2.0,\n",
    "                 \"Norah Jones\": 3.0, \"Phoenix\": 5.0,\n",
    "                 \"Slightly Stoopid\": 4.0, \"The Strokes\": 5.0},\n",
    "\n",
    "         \"Veronica\": {\"Blues Traveler\": 3.0, \"Norah Jones\": 5.0,\n",
    "                      \"Phoenix\": 4.0, \"Slightly Stoopid\": 2.5,\n",
    "                      \"The Strokes\": 3.0}\n",
    "        }\n",
    "\n",
    "\n",
    "class recommender:\n",
    "\n",
    "    def __init__(self, data, k=1, metric='pearson', n=5):\n",
    "        \"\"\" 初始化推荐模块\n",
    "        data   训练数据\n",
    "        k      K邻近算法中的值\n",
    "        metric 使用何种距离计算方式\n",
    "        n      推荐结果的数量\n",
    "        \"\"\"\n",
    "        self.k = k\n",
    "        self.n = n\n",
    "        self.username2id = {}\n",
    "        self.userid2name = {}\n",
    "        self.productid2name = {}\n",
    "        # 将距离计算方式保存下来\n",
    "        self.metric = metric\n",
    "        if self.metric == 'pearson':\n",
    "            self.fn = self.pearson\n",
    "        #\n",
    "        # 如果data是一个字典类型，则保存下来，否则忽略\n",
    "        #\n",
    "        if type(data).__name__ == 'dict':\n",
    "            self.data = data\n",
    "\n",
    "    def convertProductID2name(self, id):\n",
    "        \"\"\"通过产品ID获取名称\"\"\"\n",
    "        if id in self.productid2name:\n",
    "            return self.productid2name[id]\n",
    "        else:\n",
    "            return id\n",
    "\n",
    "    def userRatings(self, id, n):\n",
    "        \"\"\"返回该用户评分最高的物品\"\"\"\n",
    "        print (\"Ratings for \" + self.userid2name[id])\n",
    "        ratings = self.data[id]\n",
    "        print(len(ratings))\n",
    "        ratings = list(ratings.items())\n",
    "        ratings = [(self.convertProductID2name(k), v)\n",
    "                   for (k, v) in ratings]\n",
    "        # 排序并返回结果\n",
    "        ratings.sort(key=lambda artistTuple: artistTuple[1],\n",
    "                     reverse = True)\n",
    "        ratings = ratings[:n]\n",
    "        for rating in ratings:\n",
    "            print(\"%s\\t%i\" % (rating[0], rating[1]))\n",
    "\n",
    "    def loadBookDB(self, path=''):\n",
    "        \"\"\"加载BX数据集，path是数据文件位置\"\"\"\n",
    "        self.data = {}\n",
    "        i = 0\n",
    "        #\n",
    "        # 将书籍评分数据放入self.data\n",
    "        #\n",
    "        f = codecs.open(path + \"BX-Book-Ratings.csv\", 'r', 'utf8')\n",
    "        for line in f:\n",
    "            i += 1\n",
    "            #separate line into fields\n",
    "            fields = line.split(';')\n",
    "            user = fields[0].strip('\"')\n",
    "            book = fields[1].strip('\"')\n",
    "            rating = int(fields[2].strip().strip('\"'))\n",
    "            if user in self.data:\n",
    "                currentRatings = self.data[user]\n",
    "            else:\n",
    "                currentRatings = {}\n",
    "            currentRatings[book] = rating\n",
    "            self.data[user] = currentRatings\n",
    "        f.close()\n",
    "        #\n",
    "        # 将书籍信息存入self.productid2name\n",
    "        # 包括isbn号、书名、作者等\n",
    "        #\n",
    "        f = codecs.open(path + \"BX-Books.csv\", 'r', 'utf8')\n",
    "        for line in f:\n",
    "            i += 1\n",
    "            #separate line into fields\n",
    "            fields = line.split(';')\n",
    "            isbn = fields[0].strip('\"')\n",
    "            title = fields[1].strip('\"')\n",
    "            author = fields[2].strip().strip('\"')\n",
    "            title = title + ' by ' + author\n",
    "            self.productid2name[isbn] = title\n",
    "        f.close()\n",
    "        #\n",
    "        #  将用户信息存入self.userid2name和self.username2id\n",
    "        #\n",
    "        f = codecs.open(path + \"BX-Users.csv\", 'r', 'utf8')\n",
    "        for line in f:\n",
    "            i += 1\n",
    "            #print(line)\n",
    "            #separate line into fields\n",
    "            fields = line.split(';')\n",
    "            userid = fields[0].strip('\"')\n",
    "            location = fields[1].strip('\"')\n",
    "            if len(fields) > 3:\n",
    "                age = fields[2].strip().strip('\"')\n",
    "            else:\n",
    "                age = 'NULL'\n",
    "            if age != 'NULL':\n",
    "                value = location + '  (age: ' + age + ')'\n",
    "            else:\n",
    "                value = location\n",
    "            self.userid2name[userid] = value\n",
    "            self.username2id[location] = userid\n",
    "        f.close()\n",
    "        print(i)\n",
    "\n",
    "    def pearson(self, rating1, rating2):\n",
    "        sum_xy = 0\n",
    "        sum_x = 0\n",
    "        sum_y = 0\n",
    "        sum_x2 = 0\n",
    "        sum_y2 = 0\n",
    "        n = 0\n",
    "        for key in rating1:\n",
    "            if key in rating2:\n",
    "                n += 1\n",
    "                x = rating1[key]\n",
    "                y = rating2[key]\n",
    "                sum_xy += x * y\n",
    "                sum_x += x\n",
    "                sum_y += y\n",
    "                sum_x2 += pow(x, 2)\n",
    "                sum_y2 += pow(y, 2)\n",
    "        if n == 0:\n",
    "            return 0\n",
    "        # 计算分母\n",
    "        denominator = (sqrt(sum_x2 - pow(sum_x, 2) / n)\n",
    "                       * sqrt(sum_y2 - pow(sum_y, 2) / n))\n",
    "        if denominator == 0:\n",
    "            return 0\n",
    "        else:\n",
    "            return (sum_xy - (sum_x * sum_y) / n) / denominator\n",
    "\n",
    "    def computeNearestNeighbor(self, username):\n",
    "        \"\"\"获取邻近用户\"\"\"\n",
    "        distances = []\n",
    "        for instance in self.data:\n",
    "            if instance != username:\n",
    "                distance = self.fn(self.data[username],\n",
    "                                   self.data[instance])\n",
    "                distances.append((instance, distance))\n",
    "        # 按距离排序，距离近的排在前面\n",
    "        distances.sort(key=lambda artistTuple: artistTuple[1],\n",
    "                       reverse=True)\n",
    "        return distances\n",
    "\n",
    "    def recommend(self, user):\n",
    "       \"\"\"返回推荐列表\"\"\"\n",
    "       recommendations = {}\n",
    "       # 首先，获取邻近用户\n",
    "       nearest = self.computeNearestNeighbor(user)\n",
    "       #\n",
    "       # 获取用户评价过的商品\n",
    "       #\n",
    "       userRatings = self.data[user]\n",
    "       #\n",
    "       # 计算总距离\n",
    "       totalDistance = 0.0\n",
    "       for i in range(self.k):\n",
    "          totalDistance += nearest[i][1]\n",
    "       # 汇总K邻近用户的评分\n",
    "       for i in range(self.k):\n",
    "          # 计算饼图的每个分片\n",
    "          weight = nearest[i][1] / totalDistance\n",
    "          # 获取用户名称\n",
    "          name = nearest[i][0]\n",
    "          # 获取用户评分\n",
    "          neighborRatings = self.data[name]\n",
    "          # 获得没有评价过的商品\n",
    "          for artist in neighborRatings:\n",
    "             if not artist in userRatings:\n",
    "                if artist not in recommendations:\n",
    "                   recommendations[artist] = (neighborRatings[artist]\n",
    "                                              * weight)\n",
    "                else:\n",
    "                   recommendations[artist] = (recommendations[artist]\n",
    "                                              + neighborRatings[artist]\n",
    "                                              * weight)\n",
    "       # 开始推荐\n",
    "       recommendations = list(recommendations.items())\n",
    "       recommendations = [(self.convertProductID2name(k), v)\n",
    "                          for (k, v) in recommendations]\n",
    "       # 排序并返回\n",
    "       recommendations.sort(key=lambda artistTuple: artistTuple[1],\n",
    "                            reverse = True)\n",
    "       # 返回前n个结果\n",
    "       return recommendations[:self.n]"
   ]
  },
  {
   "cell_type": "code",
   "execution_count": 13,
   "metadata": {
    "collapsed": true
   },
   "outputs": [],
   "source": [
    "r = recommender(users)"
   ]
  },
  {
   "cell_type": "code",
   "execution_count": 14,
   "metadata": {
    "collapsed": false
   },
   "outputs": [
    {
     "data": {
      "text/plain": [
       "[('Blues Traveler', 5.0)]"
      ]
     },
     "execution_count": 14,
     "metadata": {},
     "output_type": "execute_result"
    }
   ],
   "source": [
    "r.recommend('Jordyn')"
   ]
  },
  {
   "cell_type": "code",
   "execution_count": 15,
   "metadata": {
    "collapsed": false
   },
   "outputs": [
    {
     "data": {
      "text/plain": [
       "[('Phoenix', 5.0), ('Slightly Stoopid', 4.5)]"
      ]
     },
     "execution_count": 15,
     "metadata": {},
     "output_type": "execute_result"
    }
   ],
   "source": [
    "r.recommend('Hailey')"
   ]
  },
  {
   "cell_type": "code",
   "execution_count": null,
   "metadata": {
    "collapsed": true
   },
   "outputs": [],
   "source": []
  }
 ],
 "metadata": {
  "kernelspec": {
   "display_name": "Python [Root]",
   "language": "python",
   "name": "Python [Root]"
  },
  "language_info": {
   "codemirror_mode": {
    "name": "ipython",
    "version": 2
   },
   "file_extension": ".py",
   "mimetype": "text/x-python",
   "name": "python",
   "nbconvert_exporter": "python",
   "pygments_lexer": "ipython2",
   "version": "2.7.12"
  }
 },
 "nbformat": 4,
 "nbformat_minor": 0
}
